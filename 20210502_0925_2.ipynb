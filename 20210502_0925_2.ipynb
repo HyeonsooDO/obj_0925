{
 "cells": [
  {
   "cell_type": "markdown",
   "id": "46d9444b-5bea-4a9e-96da-5f7e2a123911",
   "metadata": {},
   "source": [
    "## OOP (2024 Fall) 실습01: Map과 List 활용 연습\n",
    "- 이름 : 도현수\n",
    "- 학번 : 20210502"
   ]
  },
  {
   "cell_type": "code",
   "execution_count": null,
   "id": "25891146-7df4-4ba7-ae3c-24b8d84149d3",
   "metadata": {},
   "outputs": [],
   "source": [
    "Map<String, List<String>> routeMap = new HashMap<>();\n",
    "\n",
    "routeMap.put(\"서울\", Arrays.asList(\"원주\", \"천안\"));\n",
    "routeMap.put(\"원주\", Arrays.asList(\"평창\", \"안동\"));\n",
    "routeMap.put(\"천안\", Arrays.asList(\"대전\", \"공주\"));\n",
    "routeMap.put(\"평창\", Arrays.asList(\"강릉\"));\n",
    "routeMap.put(\"대전\", Arrays.asList(\"대구\", \"익산\"));\n",
    "routeMap.put(\"공주\", Arrays.asList(\"익산\"));\n",
    "routeMap.put(\"대구\", Arrays.asList(\"부산\"));\n",
    "routeMap.put(\"익산\", Arrays.asList(\"광주\", \"전주\"));\n",
    "routeMap.put(\"광주\", Arrays.asList(\"목포\"));\n",
    "routeMap.put(\"전주\", Arrays.asList(\"여수\"));\n",
    "//말단노드도 빈 리스트로 추가\n",
    "routeMap.put(\"강릉\", Collections.emptyList());\n",
    "routeMap.put(\"안동\", Collections.emptyList());\n",
    "routeMap.put(\"부산\", Collections.emptyList());\n",
    "routeMap.put(\"목포\", Collections.emptyList());\n",
    "routeMap.put(\"여수\", Collections.emptyList());"
   ]
  },
  {
   "cell_type": "code",
   "execution_count": null,
   "id": "70151f98-7cec-4fa8-9eed-487e93ee8659",
   "metadata": {},
   "outputs": [],
   "source": []
  }
 ],
 "metadata": {
  "kernelspec": {
   "display_name": "Java (rjk 2.1.0)",
   "language": "java",
   "name": "rapaio-jupyter-kernel"
  },
  "language_info": {
   "codemirror_mode": "java",
   "file_extension": ".jshell",
   "mimetype": "text/x-java-source",
   "name": "java",
   "nbconvert_exporter": "script",
   "pygments_lexer": "java",
   "version": "22.0.2+9"
  }
 },
 "nbformat": 4,
 "nbformat_minor": 5
}
